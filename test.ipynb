{
 "metadata": {
  "language_info": {
   "codemirror_mode": {
    "name": "ipython",
    "version": 3
   },
   "file_extension": ".py",
   "mimetype": "text/x-python",
   "name": "python",
   "nbconvert_exporter": "python",
   "pygments_lexer": "ipython3",
   "version": "3.9.2-final"
  },
  "orig_nbformat": 2,
  "kernelspec": {
   "name": "python3",
   "display_name": "Python 3.9.2 64-bit",
   "metadata": {
    "interpreter": {
     "hash": "92bb501d01ed6694a344d8840400c42ba72134da389a6685584743cfd71bbc26"
    }
   }
  }
 },
 "nbformat": 4,
 "nbformat_minor": 2,
 "cells": [
  {
   "source": [
    "from matplotlib import pyplot\n",
    " \n",
    "# rectified linear function\n",
    "def rectified(x):\n",
    "\treturn max(0.0, x)\n",
    " \n",
    "# define a series of inputs\n",
    "series_in = [x for x in range(-10, 11)]\n",
    "# calculate outputs for our inputs\n",
    "series_out = [rectified(x) for x in series_in]\n",
    "# line plot of raw inputs to rectified outputs\n",
    "pyplot.plot(series_in, series_out)\n",
    "pyplot.show()"
   ],
   "cell_type": "code",
   "metadata": {},
   "execution_count": null,
   "outputs": []
  },
  {
   "source": [
    "a = 1"
   ],
   "cell_type": "code",
   "metadata": {},
   "execution_count": null,
   "outputs": []
  },
  {
   "cell_type": "code",
   "execution_count": 1,
   "metadata": {},
   "outputs": [],
   "source": [
    "b = 2"
   ]
  },
  {
   "cell_type": "code",
   "execution_count": 2,
   "metadata": {},
   "outputs": [],
   "source": [
    "c = 3"
   ]
  },
  {
   "cell_type": "code",
   "execution_count": 3,
   "metadata": {},
   "outputs": [],
   "source": [
    "d = 4"
   ]
  }
 ]
}